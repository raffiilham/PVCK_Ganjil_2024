{
  "nbformat": 4,
  "nbformat_minor": 0,
  "metadata": {
    "colab": {
      "provenance": [],
      "authorship_tag": "ABX9TyNFjJdWCwIVjSHrWk3XbMxS",
      "include_colab_link": true
    },
    "kernelspec": {
      "name": "python3",
      "display_name": "Python 3"
    },
    "language_info": {
      "name": "python"
    }
  },
  "cells": [
    {
      "cell_type": "markdown",
      "metadata": {
        "id": "view-in-github",
        "colab_type": "text"
      },
      "source": [
        "<a href=\"https://colab.research.google.com/github/raffiilham/PVCK_Ganjil_2024/blob/main/week7.ipynb\" target=\"_parent\"><img src=\"https://colab.research.google.com/assets/colab-badge.svg\" alt=\"Open In Colab\"/></a>"
      ]
    },
    {
      "cell_type": "code",
      "execution_count": 1,
      "metadata": {
        "colab": {
          "base_uri": "https://localhost:8080/"
        },
        "id": "Ot29w8UWrvF4",
        "outputId": "6fafbc68-6265-44b2-b323-267d6370e68d"
      },
      "outputs": [
        {
          "output_type": "stream",
          "name": "stdout",
          "text": [
            "Mounted at /content/drive\n"
          ]
        }
      ],
      "source": [
        "from google.colab import drive\n",
        "\n",
        "drive.mount('/content/drive')"
      ]
    },
    {
      "cell_type": "code",
      "source": [
        "import numpy as np\n",
        "import matplotlib.pyplot as plt\n",
        "import cv2 as cv\n",
        "import math\n",
        "from google.colab.patches import cv2_imshow\n",
        "from PIL import Image as im"
      ],
      "metadata": {
        "id": "6tkd_MiMsFVJ"
      },
      "execution_count": 2,
      "outputs": []
    },
    {
      "cell_type": "code",
      "source": [
        "def convolution2d(image, kernel, stride, padding):\n",
        "    # Tambahkan padding di sekitar gambar\n",
        "    if padding > 0:\n",
        "        image = np.pad(image, ((padding, padding), (padding, padding)), mode='constant', constant_values=0)\n",
        "\n",
        "    # Dapatkan ukuran gambar dan kernel\n",
        "    image_height, image_width = image.shape\n",
        "    kernel_height, kernel_width = kernel.shape\n",
        "\n",
        "    # Hitung ukuran output\n",
        "    output_height = (image_height - kernel_height) // stride + 1\n",
        "    output_width = (image_width - kernel_width) // stride + 1\n",
        "\n",
        "    # Inisialisasi hasil output dengan nilai nol\n",
        "    output = np.zeros((output_height, output_width), dtype=np.float32)\n",
        "\n",
        "    # Lakukan convolution\n",
        "    for y in range(0, output_height):\n",
        "        for x in range(0, output_width):\n",
        "            # Tentukan region dari input yang akan dikonvolusi\n",
        "            region = image[y*stride : y*stride + kernel_height, x*stride : x*stride + kernel_width]\n",
        "\n",
        "            # Hitung nilai hasil convolution (perkalian elemen dan penjumlahan)\n",
        "            output[y, x] = np.sum(region * kernel)\n",
        "\n",
        "    return output"
      ],
      "metadata": {
        "id": "jVY9zyybsNOm"
      },
      "execution_count": 3,
      "outputs": []
    },
    {
      "cell_type": "code",
      "source": [
        "img = cv.imread('/content/drive/MyDrive/PCVK/images/female.png')\n",
        "img_gray = cv.cvtColor(img, cv.COLOR_BGR2GRAY)"
      ],
      "metadata": {
        "id": "tHa2VInIsQzZ"
      },
      "execution_count": 5,
      "outputs": []
    },
    {
      "cell_type": "code",
      "source": [
        "kernel_sharpen = np.array([[0,-1,0],\n",
        "                           [-1,5,-1],\n",
        "                           [0,-1,0]])"
      ],
      "metadata": {
        "id": "4ffANvmCscso"
      },
      "execution_count": 6,
      "outputs": []
    }
  ]
}